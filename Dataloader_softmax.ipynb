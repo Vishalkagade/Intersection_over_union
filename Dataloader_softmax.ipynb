{
 "cells": [
  {
   "cell_type": "code",
   "execution_count": 1,
   "id": "affe008a",
   "metadata": {},
   "outputs": [],
   "source": [
    "import torch\n",
    "import torchvision\n",
    "from torch.utils.data import Dataset,DataLoader\n",
    "import numpy as np\n",
    "\n",
    "import math"
   ]
  },
  {
   "cell_type": "code",
   "execution_count": 2,
   "id": "cf00c1db",
   "metadata": {},
   "outputs": [],
   "source": [
    "class wineDataset(Dataset):\n",
    "    def __init__(self):\n",
    "        #it will load the data\n",
    "        xy = np.loadtxt(r\"C:\\Users\\Vishal Kagade\\Desktop\\Project models\\9408623-b237fa5848349a14a14e5d4107dc7897c21951f5\\wine.csv\",delimiter = ',',dtype = np.float32,skiprows = 1)\n",
    "        self.x = torch.from_numpy(xy[:,1:])\n",
    "        self.y = torch.from_numpy(xy[:,[0]])\n",
    "        self.n_samples = xy.shape[0]\n",
    "        \n",
    "    \n",
    "    \n",
    "    def __getitem__(self,index):\n",
    "        # it will take a resoective input from respective index(darset[0])\n",
    "        return self.x[index],self.y[index]\n",
    "        \n",
    "    def __len__(self):\n",
    "        #it will give lenth of data\n",
    "        return self.n_samples\n",
    "        \n",
    "        "
   ]
  },
  {
   "cell_type": "code",
   "execution_count": 3,
   "id": "3175b4c3",
   "metadata": {},
   "outputs": [],
   "source": [
    "dataset = wineDataset()\n",
    "dataloader = DataLoader(dataset = dataset, batch_size = 4,shuffle = True,num_workers = 0)\n",
    "#features,labels = dataset[-1]\n",
    "#print(features,labels)\n"
   ]
  },
  {
   "cell_type": "code",
   "execution_count": null,
   "id": "da7026e1",
   "metadata": {},
   "outputs": [],
   "source": []
  },
  {
   "cell_type": "code",
   "execution_count": null,
   "id": "2ec7acea",
   "metadata": {},
   "outputs": [],
   "source": []
  },
  {
   "cell_type": "markdown",
   "id": "c1cc7062",
   "metadata": {},
   "source": [
    "datatiter = iter(dataloader)\n",
    "data = datatiter.next()\n",
    "features,labels = data\n",
    "print(features,labels)"
   ]
  },
  {
   "cell_type": "code",
   "execution_count": 4,
   "id": "184d5427",
   "metadata": {},
   "outputs": [
    {
     "ename": "SyntaxError",
     "evalue": "EOL while scanning string literal (1884995076.py, line 9)",
     "output_type": "error",
     "traceback": [
      "\u001b[1;36m  Input \u001b[1;32mIn [4]\u001b[1;36m\u001b[0m\n\u001b[1;33m    print(f'epoch{epoch +1})\u001b[0m\n\u001b[1;37m                            ^\u001b[0m\n\u001b[1;31mSyntaxError\u001b[0m\u001b[1;31m:\u001b[0m EOL while scanning string literal\n"
     ]
    }
   ],
   "source": [
    "#training Loop\n",
    "num_epoch = 5\n",
    "total_samples = len(dataset)\n",
    "N_iterations = 178\n",
    "\n",
    "for epoch in range(num_epoch):\n",
    "    for i,(inputs ,lables) in enumerate(dataloader):\n",
    "        if (i+1)%5 == 0:\n",
    "            print(f'epoch{epoch +1})"
   ]
  },
  {
   "cell_type": "markdown",
   "id": "c8cb19c5",
   "metadata": {},
   "source": [
    "### SoftMax"
   ]
  },
  {
   "cell_type": "code",
   "execution_count": 5,
   "id": "86347408",
   "metadata": {},
   "outputs": [],
   "source": [
    "# it will give probability of output inbetween 0 to 1"
   ]
  },
  {
   "cell_type": "code",
   "execution_count": 6,
   "id": "000b5897",
   "metadata": {},
   "outputs": [],
   "source": [
    "x = torch.tensor([2.0,1.0,0.1])"
   ]
  },
  {
   "cell_type": "code",
   "execution_count": 15,
   "id": "5bca2f11",
   "metadata": {},
   "outputs": [],
   "source": [
    "outputs = torch.softmax(x, dim = 0)"
   ]
  },
  {
   "cell_type": "code",
   "execution_count": 13,
   "id": "999132a2",
   "metadata": {},
   "outputs": [
    {
     "data": {
      "text/plain": [
       "tensor([0.6590, 0.2424, 0.0986])"
      ]
     },
     "execution_count": 13,
     "metadata": {},
     "output_type": "execute_result"
    }
   ],
   "source": [
    "outputs"
   ]
  },
  {
   "cell_type": "code",
   "execution_count": 17,
   "id": "5613e2ff",
   "metadata": {},
   "outputs": [],
   "source": [
    "#one-Hot Encoding\n",
    "import torch.nn as nn\n",
    "loss = nn.CrossEntropyLoss()"
   ]
  },
  {
   "cell_type": "code",
   "execution_count": 18,
   "id": "3646d2c2",
   "metadata": {},
   "outputs": [],
   "source": [
    "Y = torch.tensor([0])\n",
    "y_pred_good = torch.tensor([[2.0,1.0,0.1]])"
   ]
  },
  {
   "cell_type": "code",
   "execution_count": 19,
   "id": "d2eb48c8",
   "metadata": {},
   "outputs": [],
   "source": [
    "y_pred_bad = torch.tensor([[0.5,0.3,1.8]])"
   ]
  },
  {
   "cell_type": "code",
   "execution_count": 22,
   "id": "3877a59c",
   "metadata": {},
   "outputs": [],
   "source": [
    "l1 = loss(y_pred_good,Y)\n",
    "l2 = loss(y_pred_bad,Y)"
   ]
  },
  {
   "cell_type": "code",
   "execution_count": 25,
   "id": "9401978a",
   "metadata": {},
   "outputs": [
    {
     "data": {
      "text/plain": [
       "0.4170299470424652"
      ]
     },
     "execution_count": 25,
     "metadata": {},
     "output_type": "execute_result"
    }
   ],
   "source": [
    "l1.item()"
   ]
  },
  {
   "cell_type": "code",
   "execution_count": 26,
   "id": "eb434522",
   "metadata": {},
   "outputs": [
    {
     "data": {
      "text/plain": [
       "1.7025688886642456"
      ]
     },
     "execution_count": 26,
     "metadata": {},
     "output_type": "execute_result"
    }
   ],
   "source": [
    "l2.item()"
   ]
  },
  {
   "cell_type": "code",
   "execution_count": 40,
   "id": "75efd1c2",
   "metadata": {},
   "outputs": [],
   "source": [
    "_, predictions = torch.max(y_pred_good,1)\n",
    "_, predictions1 = torch.max(y_pred_bad,1)"
   ]
  },
  {
   "cell_type": "code",
   "execution_count": 41,
   "id": "4cbcbb5f",
   "metadata": {},
   "outputs": [
    {
     "data": {
      "text/plain": [
       "tensor([2])"
      ]
     },
     "execution_count": 41,
     "metadata": {},
     "output_type": "execute_result"
    }
   ],
   "source": [
    "predictions1"
   ]
  }
 ],
 "metadata": {
  "kernelspec": {
   "display_name": "Python 3 (ipykernel)",
   "language": "python",
   "name": "python3"
  },
  "language_info": {
   "codemirror_mode": {
    "name": "ipython",
    "version": 3
   },
   "file_extension": ".py",
   "mimetype": "text/x-python",
   "name": "python",
   "nbconvert_exporter": "python",
   "pygments_lexer": "ipython3",
   "version": "3.9.12"
  }
 },
 "nbformat": 4,
 "nbformat_minor": 5
}
