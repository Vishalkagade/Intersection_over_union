{
 "cells": [
  {
   "cell_type": "markdown",
   "id": "d793fe78",
   "metadata": {},
   "source": [
    "## Autograd"
   ]
  },
  {
   "cell_type": "code",
   "execution_count": 1,
   "id": "e46ecda3",
   "metadata": {},
   "outputs": [],
   "source": [
    "import torch"
   ]
  },
  {
   "cell_type": "code",
   "execution_count": 2,
   "id": "be9d0edc",
   "metadata": {},
   "outputs": [],
   "source": [
    "x = torch.randn(3,requires_grad = True)"
   ]
  },
  {
   "cell_type": "code",
   "execution_count": 3,
   "id": "be829e67",
   "metadata": {},
   "outputs": [
    {
     "name": "stdout",
     "output_type": "stream",
     "text": [
      "tensor([1.8386, 0.6306, 0.9933], grad_fn=<AddBackward0>)\n"
     ]
    }
   ],
   "source": [
    "y = x+2\n",
    "print(y)"
   ]
  },
  {
   "cell_type": "code",
   "execution_count": 4,
   "id": "ed6219a1",
   "metadata": {},
   "outputs": [],
   "source": [
    "z = y*y*2"
   ]
  },
  {
   "cell_type": "code",
   "execution_count": 20,
   "id": "44cde76e",
   "metadata": {
    "scrolled": true
   },
   "outputs": [
    {
     "ename": "RuntimeError",
     "evalue": "element 0 of tensors does not require grad and does not have a grad_fn",
     "output_type": "error",
     "traceback": [
      "\u001b[1;31m---------------------------------------------------------------------------\u001b[0m",
      "\u001b[1;31mRuntimeError\u001b[0m                              Traceback (most recent call last)",
      "Input \u001b[1;32mIn [20]\u001b[0m, in \u001b[0;36m<cell line: 1>\u001b[1;34m()\u001b[0m\n\u001b[1;32m----> 1\u001b[0m \u001b[38;5;28mprint\u001b[39m(\u001b[43mx\u001b[49m\u001b[38;5;241;43m.\u001b[39;49m\u001b[43mbackward\u001b[49m\u001b[43m(\u001b[49m\u001b[43m)\u001b[49m)\n",
      "File \u001b[1;32mC:\\anaconda\\lib\\site-packages\\torch\\_tensor.py:363\u001b[0m, in \u001b[0;36mTensor.backward\u001b[1;34m(self, gradient, retain_graph, create_graph, inputs)\u001b[0m\n\u001b[0;32m    354\u001b[0m \u001b[38;5;28;01mif\u001b[39;00m has_torch_function_unary(\u001b[38;5;28mself\u001b[39m):\n\u001b[0;32m    355\u001b[0m     \u001b[38;5;28;01mreturn\u001b[39;00m handle_torch_function(\n\u001b[0;32m    356\u001b[0m         Tensor\u001b[38;5;241m.\u001b[39mbackward,\n\u001b[0;32m    357\u001b[0m         (\u001b[38;5;28mself\u001b[39m,),\n\u001b[1;32m   (...)\u001b[0m\n\u001b[0;32m    361\u001b[0m         create_graph\u001b[38;5;241m=\u001b[39mcreate_graph,\n\u001b[0;32m    362\u001b[0m         inputs\u001b[38;5;241m=\u001b[39minputs)\n\u001b[1;32m--> 363\u001b[0m \u001b[43mtorch\u001b[49m\u001b[38;5;241;43m.\u001b[39;49m\u001b[43mautograd\u001b[49m\u001b[38;5;241;43m.\u001b[39;49m\u001b[43mbackward\u001b[49m\u001b[43m(\u001b[49m\u001b[38;5;28;43mself\u001b[39;49m\u001b[43m,\u001b[49m\u001b[43m \u001b[49m\u001b[43mgradient\u001b[49m\u001b[43m,\u001b[49m\u001b[43m \u001b[49m\u001b[43mretain_graph\u001b[49m\u001b[43m,\u001b[49m\u001b[43m \u001b[49m\u001b[43mcreate_graph\u001b[49m\u001b[43m,\u001b[49m\u001b[43m \u001b[49m\u001b[43minputs\u001b[49m\u001b[38;5;241;43m=\u001b[39;49m\u001b[43minputs\u001b[49m\u001b[43m)\u001b[49m\n",
      "File \u001b[1;32mC:\\anaconda\\lib\\site-packages\\torch\\autograd\\__init__.py:173\u001b[0m, in \u001b[0;36mbackward\u001b[1;34m(tensors, grad_tensors, retain_graph, create_graph, grad_variables, inputs)\u001b[0m\n\u001b[0;32m    168\u001b[0m     retain_graph \u001b[38;5;241m=\u001b[39m create_graph\n\u001b[0;32m    170\u001b[0m \u001b[38;5;66;03m# The reason we repeat same the comment below is that\u001b[39;00m\n\u001b[0;32m    171\u001b[0m \u001b[38;5;66;03m# some Python versions print out the first line of a multi-line function\u001b[39;00m\n\u001b[0;32m    172\u001b[0m \u001b[38;5;66;03m# calls in the traceback and some print out the last line\u001b[39;00m\n\u001b[1;32m--> 173\u001b[0m \u001b[43mVariable\u001b[49m\u001b[38;5;241;43m.\u001b[39;49m\u001b[43m_execution_engine\u001b[49m\u001b[38;5;241;43m.\u001b[39;49m\u001b[43mrun_backward\u001b[49m\u001b[43m(\u001b[49m\u001b[43m  \u001b[49m\u001b[38;5;66;43;03m# Calls into the C++ engine to run the backward pass\u001b[39;49;00m\n\u001b[0;32m    174\u001b[0m \u001b[43m    \u001b[49m\u001b[43mtensors\u001b[49m\u001b[43m,\u001b[49m\u001b[43m \u001b[49m\u001b[43mgrad_tensors_\u001b[49m\u001b[43m,\u001b[49m\u001b[43m \u001b[49m\u001b[43mretain_graph\u001b[49m\u001b[43m,\u001b[49m\u001b[43m \u001b[49m\u001b[43mcreate_graph\u001b[49m\u001b[43m,\u001b[49m\u001b[43m \u001b[49m\u001b[43minputs\u001b[49m\u001b[43m,\u001b[49m\n\u001b[0;32m    175\u001b[0m \u001b[43m    \u001b[49m\u001b[43mallow_unreachable\u001b[49m\u001b[38;5;241;43m=\u001b[39;49m\u001b[38;5;28;43;01mTrue\u001b[39;49;00m\u001b[43m,\u001b[49m\u001b[43m \u001b[49m\u001b[43maccumulate_grad\u001b[49m\u001b[38;5;241;43m=\u001b[39;49m\u001b[38;5;28;43;01mTrue\u001b[39;49;00m\u001b[43m)\u001b[49m\n",
      "\u001b[1;31mRuntimeError\u001b[0m: element 0 of tensors does not require grad and does not have a grad_fn"
     ]
    }
   ],
   "source": [
    "print(x.backward())"
   ]
  },
  {
   "cell_type": "code",
   "execution_count": 6,
   "id": "d59fb9b7",
   "metadata": {},
   "outputs": [],
   "source": [
    "#when we want to update out weight then their is no need of grad func_\n",
    "#there are three ways\n",
    "#x.reuires_grad(false)\n",
    "#x.detach()\n",
    "#witrh torch.no_grad():\n"
   ]
  },
  {
   "cell_type": "code",
   "execution_count": 7,
   "id": "d172f48a",
   "metadata": {},
   "outputs": [
    {
     "name": "stdout",
     "output_type": "stream",
     "text": [
      "tensor([-0.3810, -1.4852,  0.1444], requires_grad=True)\n"
     ]
    },
    {
     "data": {
      "text/plain": [
       "tensor([-0.3810, -1.4852,  0.1444])"
      ]
     },
     "execution_count": 7,
     "metadata": {},
     "output_type": "execute_result"
    }
   ],
   "source": [
    " x = torch.randn(3,requires_grad = True)\n",
    "print(x)\n",
    "x.requires_grad_(False)"
   ]
  },
  {
   "cell_type": "code",
   "execution_count": 8,
   "id": "ae775286",
   "metadata": {},
   "outputs": [
    {
     "name": "stdout",
     "output_type": "stream",
     "text": [
      "tensor([0.5425, 1.9372, 1.9135], requires_grad=True)\n"
     ]
    },
    {
     "data": {
      "text/plain": [
       "tensor([0.5425, 1.9372, 1.9135])"
      ]
     },
     "execution_count": 8,
     "metadata": {},
     "output_type": "execute_result"
    }
   ],
   "source": [
    " x = torch.randn(3,requires_grad = True)\n",
    "print(x)\n",
    "x.detach()"
   ]
  },
  {
   "cell_type": "code",
   "execution_count": 9,
   "id": "c70765b8",
   "metadata": {},
   "outputs": [
    {
     "name": "stdout",
     "output_type": "stream",
     "text": [
      "tensor([0.6317, 0.4076, 0.7472], requires_grad=True)\n",
      "tensor([2.6317, 2.4076, 2.7472])\n"
     ]
    }
   ],
   "source": [
    " x = torch.randn(3,requires_grad = True)\n",
    "print(x)\n",
    "with torch.no_grad():\n",
    "    y = x+2 #some operation is required\n",
    "    print(y)"
   ]
  },
  {
   "cell_type": "code",
   "execution_count": 10,
   "id": "bd4ad011",
   "metadata": {},
   "outputs": [
    {
     "name": "stdout",
     "output_type": "stream",
     "text": [
      "tensor([4., 4., 4., 4.])\n",
      "tensor([8., 8., 8., 8.])\n",
      "tensor([12., 12., 12., 12.])\n"
     ]
    }
   ],
   "source": [
    "weights = torch.ones(4,requires_grad= True)\n",
    "\n",
    "for epoch in range(3):\n",
    "    model_output = (weights*4).sum()\n",
    "    model_output.backward()\n",
    "    print(weights.grad)\n",
    "    #print(model_output)\n",
    "    "
   ]
  },
  {
   "cell_type": "code",
   "execution_count": 77,
   "id": "4fb8a4de",
   "metadata": {},
   "outputs": [
    {
     "name": "stdout",
     "output_type": "stream",
     "text": [
      "tensor([4., 4., 4., 4.])\n",
      "tensor([4., 4., 4., 4.])\n",
      "tensor([4., 4., 4., 4.])\n"
     ]
    }
   ],
   "source": [
    "weights = torch.ones(4,requires_grad= True)\n",
    "\n",
    "for epoch in range(3):\n",
    "    model_output = (weights*4).sum()\n",
    "    model_output.backward()\n",
    "    \n",
    "    print(weights.grad)\n",
    "    weights.grad.zero_()\n",
    "    \n",
    "    #print(model_output)"
   ]
  },
  {
   "cell_type": "markdown",
   "id": "2ff1a214",
   "metadata": {},
   "source": [
    "### Backpropogation"
   ]
  },
  {
   "cell_type": "code",
   "execution_count": 12,
   "id": "956c5e91",
   "metadata": {},
   "outputs": [],
   "source": [
    "#generally their are three steps:\n",
    "#1.forward Pass: compute tge lossses\n",
    "#2.computation of local gradinents\n",
    "#3.backward pass : compute (dLoss/dweights) using chain rule\n"
   ]
  },
  {
   "cell_type": "code",
   "execution_count": 13,
   "id": "3b511d03",
   "metadata": {},
   "outputs": [
    {
     "name": "stdout",
     "output_type": "stream",
     "text": [
      "tensor(1., grad_fn=<PowBackward0>)\n"
     ]
    }
   ],
   "source": [
    "x = torch.tensor(1.0)\n",
    "y = torch.tensor(2.0)\n",
    "w = torch.tensor(1.0,requires_grad = True)\n",
    "\n",
    "#following the above steps\n",
    "y_hat = w*x\n",
    "loss = (y_hat-y)**2\n",
    "print(loss)"
   ]
  },
  {
   "cell_type": "code",
   "execution_count": 14,
   "id": "89a802c9",
   "metadata": {},
   "outputs": [],
   "source": [
    "loss.backward()"
   ]
  },
  {
   "cell_type": "code",
   "execution_count": 15,
   "id": "d9a6ea6a",
   "metadata": {},
   "outputs": [
    {
     "data": {
      "text/plain": [
       "tensor(-2.)"
      ]
     },
     "execution_count": 15,
     "metadata": {},
     "output_type": "execute_result"
    }
   ],
   "source": [
    "w.grad"
   ]
  },
  {
   "cell_type": "markdown",
   "id": "8f4e514a",
   "metadata": {},
   "source": [
    "## Gradient Decent Algorithm"
   ]
  },
  {
   "cell_type": "code",
   "execution_count": 16,
   "id": "ad4ef234",
   "metadata": {},
   "outputs": [],
   "source": [
    " import numpy as np"
   ]
  },
  {
   "cell_type": "code",
   "execution_count": 85,
   "id": "7165e0de",
   "metadata": {},
   "outputs": [],
   "source": [
    "X = torch.tensor([[1],[2],[3],[4]],dtype = torch.float32)\n",
    "Y = torch.tensor([[2],[4],[6],[8]],dtype = torch.float32) \n",
    "\n",
    "\n",
    "\n",
    "#w = torch.tensor(0.0,dtype = torch.float32, requires_grad = True)"
   ]
  },
  {
   "cell_type": "code",
   "execution_count": 86,
   "id": "2f0924ff",
   "metadata": {},
   "outputs": [
    {
     "data": {
      "text/plain": [
       "1.0"
      ]
     },
     "execution_count": 86,
     "metadata": {},
     "output_type": "execute_result"
    }
   ],
   "source": [
    "(X[0][0]).item()"
   ]
  },
  {
   "cell_type": "code",
   "execution_count": 87,
   "id": "399999ef",
   "metadata": {},
   "outputs": [
    {
     "name": "stdout",
     "output_type": "stream",
     "text": [
      "1 4\n"
     ]
    }
   ],
   "source": [
    "n_samples, n_fetures = X.shape\n",
    "print(n_fetures,n_samples)"
   ]
  },
  {
   "cell_type": "code",
   "execution_count": 88,
   "id": "09cdfb75",
   "metadata": {},
   "outputs": [],
   "source": [
    "X_test = torch.tensor([5],dtype = torch.float32)"
   ]
  },
  {
   "cell_type": "code",
   "execution_count": 89,
   "id": "98ea955e",
   "metadata": {},
   "outputs": [],
   "source": [
    "input_size = n_fetures\n",
    "output_size = n_fetures"
   ]
  },
  {
   "cell_type": "code",
   "execution_count": 90,
   "id": "031f0ed5",
   "metadata": {},
   "outputs": [],
   "source": [
    "\n",
    "#def forward(x):\n",
    " #   return w*x\n",
    "#model = nn.Linear(input_size,output_size)"
   ]
  },
  {
   "cell_type": "code",
   "execution_count": 104,
   "id": "8417afb0",
   "metadata": {},
   "outputs": [],
   "source": [
    "class LinearRegression(nn.Module):\n",
    "    def __init__(self,input_dim,output_dim):\n",
    "        super(LinearRegression,self).__init__()\n",
    "        self.lin = nn.Linear(input_dim,output_dim)\n",
    "    def forward(self,x):\n",
    "        return self.lin(x)\n",
    "model = LinearRegression(input_size,output_size)"
   ]
  },
  {
   "cell_type": "markdown",
   "id": "690e920d",
   "metadata": {},
   "source": [
    "def loss(y,y_predict):\n",
    "    return ((y_predict-y)**2).mean()"
   ]
  },
  {
   "cell_type": "markdown",
   "id": "cc631cbf",
   "metadata": {},
   "source": [
    "def gradient(x,y,y_predict):\n",
    "    return np.dot(2*x,y_predict-y).mean()\n"
   ]
  },
  {
   "cell_type": "code",
   "execution_count": 105,
   "id": "8ec71812",
   "metadata": {},
   "outputs": [
    {
     "name": "stdout",
     "output_type": "stream",
     "text": [
      "-0.6202086210250854\n"
     ]
    }
   ],
   "source": [
    "print(model(X_test).item())\n"
   ]
  },
  {
   "cell_type": "code",
   "execution_count": 106,
   "id": "625041ac",
   "metadata": {},
   "outputs": [],
   "source": [
    "learning_rate = 0.01\n",
    "no_itr = 2000"
   ]
  },
  {
   "cell_type": "code",
   "execution_count": 107,
   "id": "4db50b3b",
   "metadata": {},
   "outputs": [],
   "source": [
    "loss = nn.MSELoss()\n"
   ]
  },
  {
   "cell_type": "code",
   "execution_count": 108,
   "id": "dd6c7a11",
   "metadata": {},
   "outputs": [],
   "source": [
    "optimizer = torch.optim.SGD(model.parameters(), lr = learning_rate)"
   ]
  },
  {
   "cell_type": "code",
   "execution_count": 109,
   "id": "67829636",
   "metadata": {
    "scrolled": true
   },
   "outputs": [
    {
     "name": "stdout",
     "output_type": "stream",
     "text": [
      "epoch 1: w = 0.139,loss=32.78094864\n",
      "epoch 101: w = 1.776,loss=0.07258532\n",
      "epoch 201: w = 1.834,loss=0.03984851\n",
      "epoch 301: w = 1.877,loss=0.02187636\n",
      "epoch 401: w = 1.909,loss=0.01200985\n",
      "epoch 501: w = 1.933,loss=0.00659328\n",
      "epoch 601: w = 1.950,loss=0.00361963\n",
      "epoch 701: w = 1.963,loss=0.00198714\n",
      "epoch 801: w = 1.973,loss=0.00109091\n",
      "epoch 901: w = 1.980,loss=0.00059890\n",
      "epoch 1001: w = 1.985,loss=0.00032879\n",
      "epoch 1101: w = 1.989,loss=0.00018050\n",
      "epoch 1201: w = 1.992,loss=0.00009909\n",
      "epoch 1301: w = 1.994,loss=0.00005440\n",
      "epoch 1401: w = 1.995,loss=0.00002987\n",
      "epoch 1501: w = 1.997,loss=0.00001640\n",
      "epoch 1601: w = 1.998,loss=0.00000900\n",
      "epoch 1701: w = 1.998,loss=0.00000494\n",
      "epoch 1801: w = 1.999,loss=0.00000271\n",
      "epoch 1901: w = 1.999,loss=0.00000149\n",
      "9.998448371887207\n"
     ]
    }
   ],
   "source": [
    "\n",
    "for epoch in range(no_itr):\n",
    "    #prediction = forward pass\n",
    "    y_pred  = model(X)\n",
    "    \n",
    "    #loss\n",
    "    l = loss(Y,y_pred)\n",
    "    #gradient\n",
    "    l.backward()\n",
    "    \n",
    "    #update weights\n",
    "    optimizer.step()\n",
    "    \n",
    "    optimizer.zero_grad()\n",
    "    \n",
    "\n",
    "    \n",
    "    if epoch % 100 ==0:\n",
    "        [w,b] = model.parameters() \n",
    "        print(f'epoch {epoch+1}: w = {w[0][0].item():.3f},loss={l:.8f}')\n",
    "print(model(X_test).item())"
   ]
  },
  {
   "cell_type": "code",
   "execution_count": 1,
   "id": "937e3f9e",
   "metadata": {},
   "outputs": [],
   "source": [
    "import torch\n",
    "import torch.nn as nn"
   ]
  },
  {
   "cell_type": "code",
   "execution_count": 2,
   "id": "1f909cce",
   "metadata": {},
   "outputs": [],
   "source": [
    "import numpy as np"
   ]
  },
  {
   "cell_type": "code",
   "execution_count": 7,
   "id": "0a442487",
   "metadata": {},
   "outputs": [
    {
     "name": "stdout",
     "output_type": "stream",
     "text": [
      "Requirement already satisfied: sklearn in c:\\anaconda\\lib\\site-packages (0.0)\n",
      "Requirement already satisfied: scikit-learn in c:\\anaconda\\lib\\site-packages (from sklearn) (1.0.2)\n",
      "Requirement already satisfied: numpy>=1.14.6 in c:\\anaconda\\lib\\site-packages (from scikit-learn->sklearn) (1.21.5)\n",
      "Requirement already satisfied: threadpoolctl>=2.0.0 in c:\\anaconda\\lib\\site-packages (from scikit-learn->sklearn) (2.2.0)\n",
      "Requirement already satisfied: scipy>=1.1.0 in c:\\anaconda\\lib\\site-packages (from scikit-learn->sklearn) (1.7.3)\n",
      "Requirement already satisfied: joblib>=0.11 in c:\\anaconda\\lib\\site-packages (from scikit-learn->sklearn) (1.1.0)\n"
     ]
    }
   ],
   "source": [
    "!pip install sklearn"
   ]
  },
  {
   "cell_type": "code",
   "execution_count": 8,
   "id": "28a3a7ed",
   "metadata": {},
   "outputs": [],
   "source": [
    "from sklearn import datasets"
   ]
  },
  {
   "cell_type": "code",
   "execution_count": 9,
   "id": "b3b5069c",
   "metadata": {},
   "outputs": [],
   "source": [
    "import matplotlib.pyplot as plt"
   ]
  },
  {
   "cell_type": "code",
   "execution_count": 26,
   "id": "293bb4ac",
   "metadata": {},
   "outputs": [],
   "source": [
    "x_value, y_value = datasets.make_regression(n_samples = 100,n_features = 1,noise = 20,random_state = 1)"
   ]
  },
  {
   "cell_type": "code",
   "execution_count": 28,
   "id": "1fa2dcd9",
   "metadata": {},
   "outputs": [],
   "source": [
    "#trasforms to tensor\n",
    "X = torch.from_numpy(x_value.astype(np.float32))\n",
    "Y = torch.from_numpy(y_value.astype(np.float32))"
   ]
  },
  {
   "cell_type": "code",
   "execution_count": 35,
   "id": "7af0cbe2",
   "metadata": {},
   "outputs": [
    {
     "data": {
      "text/plain": [
       "tensor([[-0.6118],\n",
       "        [-0.2494],\n",
       "        [ 0.4885],\n",
       "        [ 0.7620],\n",
       "        [ 1.5198],\n",
       "        [ 0.3776],\n",
       "        [ 0.5129],\n",
       "        [-0.6712],\n",
       "        [-1.3965],\n",
       "        [ 0.3156],\n",
       "        [-0.6370],\n",
       "        [-0.3968],\n",
       "        [-1.1006],\n",
       "        [ 0.9009],\n",
       "        [-1.0999],\n",
       "        [ 0.8280],\n",
       "        [-0.0756],\n",
       "        [-0.3522],\n",
       "        [-0.6707],\n",
       "        [-1.0730],\n",
       "        [-0.3062],\n",
       "        [ 2.1856],\n",
       "        [ 0.8654],\n",
       "        [ 0.1983],\n",
       "        [-0.3841],\n",
       "        [-0.6837],\n",
       "        [ 0.0508],\n",
       "        [ 0.5828],\n",
       "        [ 1.2529],\n",
       "        [-0.7544],\n",
       "        [-0.3493],\n",
       "        [-0.8876],\n",
       "        [ 0.1866],\n",
       "        [ 0.8762],\n",
       "        [ 0.8390],\n",
       "        [-0.5045],\n",
       "        [-0.3439],\n",
       "        [ 1.6925],\n",
       "        [-2.3015],\n",
       "        [ 0.9311],\n",
       "        [ 2.1003],\n",
       "        [ 1.4621],\n",
       "        [-0.8452],\n",
       "        [-0.8779],\n",
       "        [-0.3224],\n",
       "        [ 0.8851],\n",
       "        [ 0.1600],\n",
       "        [ 1.1316],\n",
       "        [-0.3753],\n",
       "        [ 0.5025],\n",
       "        [-0.2089],\n",
       "        [ 0.1202],\n",
       "        [ 0.5866],\n",
       "        [ 0.3190],\n",
       "        [-0.6917],\n",
       "        [ 0.6980],\n",
       "        [ 1.1989],\n",
       "        [-0.2008],\n",
       "        [ 0.5304],\n",
       "        [ 0.7420],\n",
       "        [ 0.4101],\n",
       "        [ 0.1190],\n",
       "        [-0.7612],\n",
       "        [ 0.4235],\n",
       "        [ 0.3002],\n",
       "        [-1.1425],\n",
       "        [ 0.1852],\n",
       "        [-0.9358],\n",
       "        [-0.6200],\n",
       "        [-1.1173],\n",
       "        [-1.4441],\n",
       "        [-0.2223],\n",
       "        [ 1.6243],\n",
       "        [ 0.6172],\n",
       "        [-0.6872],\n",
       "        [ 0.0773],\n",
       "        [-0.0127],\n",
       "        [-0.6387],\n",
       "        [ 1.1338],\n",
       "        [ 1.7448],\n",
       "        [ 0.9016],\n",
       "        [-2.0601],\n",
       "        [ 0.2344],\n",
       "        [-0.1724],\n",
       "        [ 0.1218],\n",
       "        [ 1.1447],\n",
       "        [-0.1229],\n",
       "        [-0.7472],\n",
       "        [ 0.2856],\n",
       "        [-2.0222],\n",
       "        [ 0.2301],\n",
       "        [-0.2679],\n",
       "        [-0.5282],\n",
       "        [ 1.1295],\n",
       "        [ 0.1909],\n",
       "        [-0.2981],\n",
       "        [ 1.6598],\n",
       "        [ 0.0436],\n",
       "        [ 0.0422],\n",
       "        [-0.1918]])"
      ]
     },
     "execution_count": 35,
     "metadata": {},
     "output_type": "execute_result"
    }
   ],
   "source": [
    "X"
   ]
  },
  {
   "cell_type": "code",
   "execution_count": 36,
   "id": "2626b8a4",
   "metadata": {},
   "outputs": [
    {
     "data": {
      "text/plain": [
       "torch.Size([100])"
      ]
     },
     "execution_count": 36,
     "metadata": {},
     "output_type": "execute_result"
    }
   ],
   "source": [
    "Y.shape"
   ]
  },
  {
   "cell_type": "code",
   "execution_count": 38,
   "id": "e9e98abb",
   "metadata": {},
   "outputs": [],
   "source": [
    "Y = Y.view(Y.shape[0],1)"
   ]
  },
  {
   "cell_type": "code",
   "execution_count": 40,
   "id": "7bef6683",
   "metadata": {},
   "outputs": [
    {
     "data": {
      "text/plain": [
       "torch.Size([100, 1])"
      ]
     },
     "execution_count": 40,
     "metadata": {},
     "output_type": "execute_result"
    }
   ],
   "source": [
    "X.shape"
   ]
  },
  {
   "cell_type": "code",
   "execution_count": 41,
   "id": "0191208d",
   "metadata": {},
   "outputs": [],
   "source": [
    "n_samples, n_features = X.shape"
   ]
  },
  {
   "cell_type": "code",
   "execution_count": 43,
   "id": "6e8822b3",
   "metadata": {},
   "outputs": [],
   "source": [
    "#create a model\n",
    "\n",
    "input_size = n_features\n",
    "out_size = 1\n",
    "model = nn.Linear(input_size,out_size)"
   ]
  },
  {
   "cell_type": "code",
   "execution_count": 44,
   "id": "6c55100b",
   "metadata": {},
   "outputs": [],
   "source": [
    "#create a loss and optimizer function\n",
    "learning_rate = 0.01\n",
    "criterion = nn.MSELoss()\n",
    "optimizer = torch.optim.SGD(model.parameters(),lr = learning_rate)"
   ]
  },
  {
   "cell_type": "code",
   "execution_count": 60,
   "id": "b9f1dcea",
   "metadata": {},
   "outputs": [
    {
     "name": "stdout",
     "output_type": "stream",
     "text": [
      "epoch : 1,loss = 332.5676\n",
      "epoch : 2,loss = 332.5676\n",
      "epoch : 3,loss = 332.5676\n",
      "epoch : 8,loss = 332.5676\n",
      "epoch : 9,loss = 332.5676\n",
      "epoch : 10,loss = 332.5676\n",
      "epoch : 11,loss = 332.5676\n",
      "epoch : 16,loss = 332.5676\n",
      "epoch : 17,loss = 332.5676\n",
      "epoch : 18,loss = 332.5676\n",
      "epoch : 19,loss = 332.5676\n",
      "epoch : 24,loss = 332.5676\n",
      "epoch : 25,loss = 332.5676\n",
      "epoch : 26,loss = 332.5676\n",
      "epoch : 27,loss = 332.5676\n",
      "epoch : 128,loss = 332.5676\n",
      "epoch : 129,loss = 332.5676\n",
      "epoch : 130,loss = 332.5676\n",
      "epoch : 131,loss = 332.5676\n",
      "epoch : 136,loss = 332.5676\n",
      "epoch : 137,loss = 332.5676\n",
      "epoch : 138,loss = 332.5676\n",
      "epoch : 139,loss = 332.5676\n",
      "epoch : 144,loss = 332.5676\n",
      "epoch : 145,loss = 332.5676\n",
      "epoch : 146,loss = 332.5676\n",
      "epoch : 147,loss = 332.5676\n",
      "epoch : 152,loss = 332.5676\n",
      "epoch : 153,loss = 332.5676\n",
      "epoch : 154,loss = 332.5676\n",
      "epoch : 155,loss = 332.5676\n",
      "epoch : 256,loss = 332.5676\n",
      "epoch : 257,loss = 332.5676\n",
      "epoch : 258,loss = 332.5676\n",
      "epoch : 259,loss = 332.5676\n",
      "epoch : 264,loss = 332.5676\n",
      "epoch : 265,loss = 332.5676\n",
      "epoch : 266,loss = 332.5676\n",
      "epoch : 267,loss = 332.5676\n",
      "epoch : 272,loss = 332.5676\n",
      "epoch : 273,loss = 332.5676\n",
      "epoch : 274,loss = 332.5676\n",
      "epoch : 275,loss = 332.5676\n",
      "epoch : 280,loss = 332.5676\n",
      "epoch : 281,loss = 332.5676\n",
      "epoch : 282,loss = 332.5676\n",
      "epoch : 283,loss = 332.5676\n",
      "epoch : 384,loss = 332.5676\n",
      "epoch : 385,loss = 332.5676\n",
      "epoch : 386,loss = 332.5676\n",
      "epoch : 387,loss = 332.5676\n",
      "epoch : 392,loss = 332.5676\n",
      "epoch : 393,loss = 332.5676\n",
      "epoch : 394,loss = 332.5676\n",
      "epoch : 395,loss = 332.5676\n",
      "epoch : 400,loss = 332.5676\n",
      "epoch : 401,loss = 332.5676\n",
      "epoch : 402,loss = 332.5676\n",
      "epoch : 403,loss = 332.5676\n",
      "epoch : 408,loss = 332.5676\n",
      "epoch : 409,loss = 332.5676\n",
      "epoch : 410,loss = 332.5676\n",
      "epoch : 411,loss = 332.5676\n",
      "epoch : 512,loss = 332.5676\n",
      "epoch : 513,loss = 332.5676\n",
      "epoch : 514,loss = 332.5676\n",
      "epoch : 515,loss = 332.5676\n",
      "epoch : 520,loss = 332.5676\n",
      "epoch : 521,loss = 332.5676\n",
      "epoch : 522,loss = 332.5676\n",
      "epoch : 523,loss = 332.5676\n",
      "epoch : 528,loss = 332.5676\n",
      "epoch : 529,loss = 332.5676\n",
      "epoch : 530,loss = 332.5676\n",
      "epoch : 531,loss = 332.5676\n",
      "epoch : 536,loss = 332.5676\n",
      "epoch : 537,loss = 332.5676\n",
      "epoch : 538,loss = 332.5676\n",
      "epoch : 539,loss = 332.5676\n",
      "epoch : 640,loss = 332.5676\n",
      "epoch : 641,loss = 332.5676\n",
      "epoch : 642,loss = 332.5676\n",
      "epoch : 643,loss = 332.5676\n",
      "epoch : 648,loss = 332.5676\n",
      "epoch : 649,loss = 332.5676\n",
      "epoch : 650,loss = 332.5676\n",
      "epoch : 651,loss = 332.5676\n",
      "epoch : 656,loss = 332.5676\n",
      "epoch : 657,loss = 332.5676\n",
      "epoch : 658,loss = 332.5676\n",
      "epoch : 659,loss = 332.5676\n",
      "epoch : 664,loss = 332.5676\n",
      "epoch : 665,loss = 332.5676\n",
      "epoch : 666,loss = 332.5676\n",
      "epoch : 667,loss = 332.5676\n",
      "epoch : 768,loss = 332.5676\n",
      "epoch : 769,loss = 332.5676\n",
      "epoch : 770,loss = 332.5676\n",
      "epoch : 771,loss = 332.5676\n",
      "epoch : 776,loss = 332.5676\n",
      "epoch : 777,loss = 332.5676\n",
      "epoch : 778,loss = 332.5676\n",
      "epoch : 779,loss = 332.5676\n",
      "epoch : 784,loss = 332.5676\n",
      "epoch : 785,loss = 332.5676\n",
      "epoch : 786,loss = 332.5676\n",
      "epoch : 787,loss = 332.5676\n",
      "epoch : 792,loss = 332.5676\n",
      "epoch : 793,loss = 332.5676\n",
      "epoch : 794,loss = 332.5676\n",
      "epoch : 795,loss = 332.5676\n",
      "epoch : 896,loss = 332.5676\n",
      "epoch : 897,loss = 332.5676\n",
      "epoch : 898,loss = 332.5676\n",
      "epoch : 899,loss = 332.5676\n",
      "epoch : 904,loss = 332.5676\n",
      "epoch : 905,loss = 332.5676\n",
      "epoch : 906,loss = 332.5676\n",
      "epoch : 907,loss = 332.5676\n",
      "epoch : 912,loss = 332.5676\n",
      "epoch : 913,loss = 332.5676\n",
      "epoch : 914,loss = 332.5676\n",
      "epoch : 915,loss = 332.5676\n",
      "epoch : 920,loss = 332.5676\n",
      "epoch : 921,loss = 332.5676\n",
      "epoch : 922,loss = 332.5676\n",
      "epoch : 923,loss = 332.5676\n"
     ]
    },
    {
     "ename": "RuntimeError",
     "evalue": "both arguments to matmul need to be at least 1D, but they are 0D and 2D",
     "output_type": "error",
     "traceback": [
      "\u001b[1;31m---------------------------------------------------------------------------\u001b[0m",
      "\u001b[1;31mRuntimeError\u001b[0m                              Traceback (most recent call last)",
      "Input \u001b[1;32mIn [60]\u001b[0m, in \u001b[0;36m<cell line: 19>\u001b[1;34m()\u001b[0m\n\u001b[0;32m     16\u001b[0m     \u001b[38;5;28;01mif\u001b[39;00m (epoch\u001b[38;5;241m+\u001b[39m\u001b[38;5;241m1\u001b[39m) \u001b[38;5;241m&\u001b[39m \u001b[38;5;241m100\u001b[39m \u001b[38;5;241m==\u001b[39m \u001b[38;5;241m0\u001b[39m:\n\u001b[0;32m     17\u001b[0m         \u001b[38;5;28mprint\u001b[39m(\u001b[38;5;124mf\u001b[39m\u001b[38;5;124m'\u001b[39m\u001b[38;5;124mepoch : \u001b[39m\u001b[38;5;132;01m{\u001b[39;00mepoch\u001b[38;5;241m+\u001b[39m\u001b[38;5;241m1\u001b[39m\u001b[38;5;132;01m}\u001b[39;00m\u001b[38;5;124m,loss = \u001b[39m\u001b[38;5;132;01m{\u001b[39;00mloss\u001b[38;5;241m.\u001b[39mitem()\u001b[38;5;132;01m:\u001b[39;00m\u001b[38;5;124m.4f\u001b[39m\u001b[38;5;132;01m}\u001b[39;00m\u001b[38;5;124m'\u001b[39m)\n\u001b[1;32m---> 19\u001b[0m \u001b[38;5;28mprint\u001b[39m(\u001b[43mmodel\u001b[49m\u001b[43m(\u001b[49m\u001b[43ml\u001b[49m\u001b[43m)\u001b[49m)\n",
      "File \u001b[1;32mC:\\anaconda\\lib\\site-packages\\torch\\nn\\modules\\module.py:1110\u001b[0m, in \u001b[0;36mModule._call_impl\u001b[1;34m(self, *input, **kwargs)\u001b[0m\n\u001b[0;32m   1106\u001b[0m \u001b[38;5;66;03m# If we don't have any hooks, we want to skip the rest of the logic in\u001b[39;00m\n\u001b[0;32m   1107\u001b[0m \u001b[38;5;66;03m# this function, and just call forward.\u001b[39;00m\n\u001b[0;32m   1108\u001b[0m \u001b[38;5;28;01mif\u001b[39;00m \u001b[38;5;129;01mnot\u001b[39;00m (\u001b[38;5;28mself\u001b[39m\u001b[38;5;241m.\u001b[39m_backward_hooks \u001b[38;5;129;01mor\u001b[39;00m \u001b[38;5;28mself\u001b[39m\u001b[38;5;241m.\u001b[39m_forward_hooks \u001b[38;5;129;01mor\u001b[39;00m \u001b[38;5;28mself\u001b[39m\u001b[38;5;241m.\u001b[39m_forward_pre_hooks \u001b[38;5;129;01mor\u001b[39;00m _global_backward_hooks\n\u001b[0;32m   1109\u001b[0m         \u001b[38;5;129;01mor\u001b[39;00m _global_forward_hooks \u001b[38;5;129;01mor\u001b[39;00m _global_forward_pre_hooks):\n\u001b[1;32m-> 1110\u001b[0m     \u001b[38;5;28;01mreturn\u001b[39;00m forward_call(\u001b[38;5;241m*\u001b[39m\u001b[38;5;28minput\u001b[39m, \u001b[38;5;241m*\u001b[39m\u001b[38;5;241m*\u001b[39mkwargs)\n\u001b[0;32m   1111\u001b[0m \u001b[38;5;66;03m# Do not call functions when jit is used\u001b[39;00m\n\u001b[0;32m   1112\u001b[0m full_backward_hooks, non_full_backward_hooks \u001b[38;5;241m=\u001b[39m [], []\n",
      "File \u001b[1;32mC:\\anaconda\\lib\\site-packages\\torch\\nn\\modules\\linear.py:103\u001b[0m, in \u001b[0;36mLinear.forward\u001b[1;34m(self, input)\u001b[0m\n\u001b[0;32m    102\u001b[0m \u001b[38;5;28;01mdef\u001b[39;00m \u001b[38;5;21mforward\u001b[39m(\u001b[38;5;28mself\u001b[39m, \u001b[38;5;28minput\u001b[39m: Tensor) \u001b[38;5;241m-\u001b[39m\u001b[38;5;241m>\u001b[39m Tensor:\n\u001b[1;32m--> 103\u001b[0m     \u001b[38;5;28;01mreturn\u001b[39;00m \u001b[43mF\u001b[49m\u001b[38;5;241;43m.\u001b[39;49m\u001b[43mlinear\u001b[49m\u001b[43m(\u001b[49m\u001b[38;5;28;43minput\u001b[39;49m\u001b[43m,\u001b[49m\u001b[43m \u001b[49m\u001b[38;5;28;43mself\u001b[39;49m\u001b[38;5;241;43m.\u001b[39;49m\u001b[43mweight\u001b[49m\u001b[43m,\u001b[49m\u001b[43m \u001b[49m\u001b[38;5;28;43mself\u001b[39;49m\u001b[38;5;241;43m.\u001b[39;49m\u001b[43mbias\u001b[49m\u001b[43m)\u001b[49m\n",
      "\u001b[1;31mRuntimeError\u001b[0m: both arguments to matmul need to be at least 1D, but they are 0D and 2D"
     ]
    }
   ],
   "source": [
    "#training pipe line\n",
    "l= torch.tensor(1.0)\n",
    "num_epochs = 1000\n",
    "for epoch in range(num_epochs):\n",
    "    #forward pass\n",
    "    y_predict = model(X)\n",
    "    loss = criterion(y_predict,Y)\n",
    "    #backwardpass\n",
    "    loss.backward()\n",
    "    \n",
    "    #update zhe wirghts\n",
    "    optimizer.step()\n",
    "    \n",
    "    optimizer.zero_grad()\n",
    "    \n",
    "    if (epoch+1) & 100 == 0:\n",
    "        print(f'epoch : {epoch+1},loss = {loss.item():.4f}')\n",
    "\n",
    "print(model(l))"
   ]
  },
  {
   "cell_type": "code",
   "execution_count": 56,
   "id": "6d2926d0",
   "metadata": {},
   "outputs": [
    {
     "data": {
      "image/png": "[encoded data removed]",
      "text/plain": [
       "<Figure size 432x288 with 1 Axes>"
      ]
     },
     "metadata": {
      "needs_background": "light"
     },
     "output_type": "display_data"
    }
   ],
   "source": [
    "predicted = model(X).detach().numpy()\n",
    "plt.plot(x_value,y_value,'ro')\n",
    "plt.plot(x_value,predicted,'b')\n",
    "plt.show()"
   ]
  },
  {
   "cell_type": "code",
   "execution_count": null,
   "id": "dfb821a4",
   "metadata": {},
   "outputs": [],
   "source": []
  }
 ],
 "metadata": {
  "kernelspec": {
   "display_name": "Python 3 (ipykernel)",
   "language": "python",
   "name": "python3"
  },
  "language_info": {
   "codemirror_mode": {
    "name": "ipython",
    "version": 3
   },
   "file_extension": ".py",
   "mimetype": "text/x-python",
   "name": "python",
   "nbconvert_exporter": "python",
   "pygments_lexer": "ipython3",
   "version": "3.9.12"
  }
 },
 "nbformat": 4,
 "nbformat_minor": 5
}
